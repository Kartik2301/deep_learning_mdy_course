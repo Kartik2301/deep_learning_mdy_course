{
  "nbformat": 4,
  "nbformat_minor": 0,
  "metadata": {
    "colab": {
      "name": "mandys_course_part_2.ipynb",
      "provenance": []
    },
    "kernelspec": {
      "name": "python3",
      "display_name": "Python 3"
    }
  },
  "cells": [
    {
      "cell_type": "markdown",
      "metadata": {
        "id": "FAYMVq2lp5d-"
      },
      "source": [
        "Keras API   \r\n",
        "https://www.youtube.com/playlist?list=PLZbbT5o_s2xrwRnXk_yCPtnqqo4_u2YGL"
      ]
    },
    {
      "cell_type": "code",
      "metadata": {
        "id": "Lqb-ez0nqFCX"
      },
      "source": [
        "# Data prepration\r\n",
        "import numpy as np\r\n",
        "from random import randint\r\n",
        "from sklearn.utils import shuffle\r\n",
        "from sklearn.preprocessing import MinMaxScaler"
      ],
      "execution_count": 1,
      "outputs": []
    },
    {
      "cell_type": "code",
      "metadata": {
        "id": "j0gRwpzXqe5u"
      },
      "source": [
        "train_labels = []\r\n",
        "train_samples = []"
      ],
      "execution_count": 2,
      "outputs": []
    },
    {
      "cell_type": "code",
      "metadata": {
        "id": "G67ZVdE2qxru"
      },
      "source": [
        "for i in range(50):\r\n",
        "  random_younger = randint(13,64)\r\n",
        "  train_samples.append(random_younger)\r\n",
        "  train_labels.append(1)\r\n",
        "\r\n",
        "  random_older = randint(65,100)\r\n",
        "  train_samples.append(random_older)\r\n",
        "  train_labels.append(0)\r\n",
        "\r\n",
        "for i in range(1000):\r\n",
        "  random_younger = randint(13,64)\r\n",
        "  train_samples.append(random_younger)\r\n",
        "  train_labels.append(0)\r\n",
        "\r\n",
        "  random_older = randint(65,100)\r\n",
        "  train_samples.append(random_older)\r\n",
        "  train_labels.append(1)"
      ],
      "execution_count": 3,
      "outputs": []
    },
    {
      "cell_type": "code",
      "metadata": {
        "id": "rXvnRfdvr8s2"
      },
      "source": [
        "train_samples = np.array(train_samples)\r\n",
        "train_labels = np.array(train_labels)\r\n",
        "train_labels, train_samples = shuffle(train_labels,train_samples)"
      ],
      "execution_count": 4,
      "outputs": []
    },
    {
      "cell_type": "code",
      "metadata": {
        "id": "7F8S3KkXsg1u"
      },
      "source": [
        "scaler = MinMaxScaler(feature_range=(0,1))\r\n",
        "scaled_train_samples = scaler.fit_transform(train_samples.reshape(-1,1))"
      ],
      "execution_count": 5,
      "outputs": []
    },
    {
      "cell_type": "code",
      "metadata": {
        "colab": {
          "base_uri": "https://localhost:8080/"
        },
        "id": "KSwleC4vtZhD",
        "outputId": "da93de3b-1cef-42fb-e87e-5c6a0d544a19"
      },
      "source": [
        "print(scaled_train_samples)"
      ],
      "execution_count": 6,
      "outputs": [
        {
          "output_type": "stream",
          "text": [
            "[[0.93103448]\n",
            " [0.90804598]\n",
            " [0.62068966]\n",
            " ...\n",
            " [0.71264368]\n",
            " [0.7816092 ]\n",
            " [0.13793103]]\n"
          ],
          "name": "stdout"
        }
      ]
    },
    {
      "cell_type": "code",
      "metadata": {
        "id": "w9iOUBLytb3U"
      },
      "source": [
        "import tensorflow as tf\r\n",
        "from tensorflow import keras\r\n",
        "from tensorflow.keras.models import Sequential\r\n",
        "from tensorflow.keras.layers import Activation, Dense\r\n",
        "from tensorflow.keras.optimizers import Adam\r\n",
        "from tensorflow.keras.metrics import categorical_crossentropy"
      ],
      "execution_count": 7,
      "outputs": []
    },
    {
      "cell_type": "code",
      "metadata": {
        "id": "_dx-8Urxu7C-"
      },
      "source": [
        "model = Sequential([\r\n",
        " Dense(units=16,input_shape=(1,),activation='relu'),\r\n",
        " Dense(units=32,activation='relu'), # fully connected layer\r\n",
        " Dense(units=2,activation='softmax') # will give us probability for each output class\r\n",
        "])"
      ],
      "execution_count": 8,
      "outputs": []
    },
    {
      "cell_type": "code",
      "metadata": {
        "colab": {
          "base_uri": "https://localhost:8080/"
        },
        "id": "4-1ZTi7Tv9RI",
        "outputId": "4cfc53fb-6c60-4e86-b58b-f20835ceef7c"
      },
      "source": [
        "print(model.summary())"
      ],
      "execution_count": 9,
      "outputs": [
        {
          "output_type": "stream",
          "text": [
            "Model: \"sequential\"\n",
            "_________________________________________________________________\n",
            "Layer (type)                 Output Shape              Param #   \n",
            "=================================================================\n",
            "dense (Dense)                (None, 16)                32        \n",
            "_________________________________________________________________\n",
            "dense_1 (Dense)              (None, 32)                544       \n",
            "_________________________________________________________________\n",
            "dense_2 (Dense)              (None, 2)                 66        \n",
            "=================================================================\n",
            "Total params: 642\n",
            "Trainable params: 642\n",
            "Non-trainable params: 0\n",
            "_________________________________________________________________\n",
            "None\n"
          ],
          "name": "stdout"
        }
      ]
    },
    {
      "cell_type": "code",
      "metadata": {
        "id": "eNlqNZpQw6xR"
      },
      "source": [
        "model.compile(optimizer=Adam(learning_rate=0.0001), loss='sparse_categorical_crossentropy', metrics=['accuracy'])"
      ],
      "execution_count": 10,
      "outputs": []
    },
    {
      "cell_type": "code",
      "metadata": {
        "colab": {
          "base_uri": "https://localhost:8080/"
        },
        "id": "Vbtk_SyfxhKr",
        "outputId": "33986254-1ca0-4d7e-e017-032769a85995"
      },
      "source": [
        "model.fit(x=scaled_train_samples,y=train_labels, validation_split=0.1,batch_size=10,epochs=30,shuffle=True,verbose=2)"
      ],
      "execution_count": 11,
      "outputs": [
        {
          "output_type": "stream",
          "text": [
            "Epoch 1/30\n",
            "189/189 - 0s - loss: 0.6661 - accuracy: 0.5476 - val_loss: 0.6409 - val_accuracy: 0.6286\n",
            "Epoch 2/30\n",
            "189/189 - 0s - loss: 0.6362 - accuracy: 0.6265 - val_loss: 0.6050 - val_accuracy: 0.7095\n",
            "Epoch 3/30\n",
            "189/189 - 0s - loss: 0.6072 - accuracy: 0.6873 - val_loss: 0.5734 - val_accuracy: 0.7429\n",
            "Epoch 4/30\n",
            "189/189 - 0s - loss: 0.5791 - accuracy: 0.7222 - val_loss: 0.5442 - val_accuracy: 0.7714\n",
            "Epoch 5/30\n",
            "189/189 - 0s - loss: 0.5508 - accuracy: 0.7566 - val_loss: 0.5149 - val_accuracy: 0.8190\n",
            "Epoch 6/30\n",
            "189/189 - 0s - loss: 0.5223 - accuracy: 0.7884 - val_loss: 0.4869 - val_accuracy: 0.8429\n",
            "Epoch 7/30\n",
            "189/189 - 0s - loss: 0.4942 - accuracy: 0.8180 - val_loss: 0.4599 - val_accuracy: 0.8762\n",
            "Epoch 8/30\n",
            "189/189 - 0s - loss: 0.4669 - accuracy: 0.8434 - val_loss: 0.4346 - val_accuracy: 0.8810\n",
            "Epoch 9/30\n",
            "189/189 - 0s - loss: 0.4407 - accuracy: 0.8651 - val_loss: 0.4110 - val_accuracy: 0.8905\n",
            "Epoch 10/30\n",
            "189/189 - 0s - loss: 0.4161 - accuracy: 0.8741 - val_loss: 0.3893 - val_accuracy: 0.9048\n",
            "Epoch 11/30\n",
            "189/189 - 0s - loss: 0.3936 - accuracy: 0.8952 - val_loss: 0.3706 - val_accuracy: 0.9095\n",
            "Epoch 12/30\n",
            "189/189 - 0s - loss: 0.3730 - accuracy: 0.8979 - val_loss: 0.3531 - val_accuracy: 0.9190\n",
            "Epoch 13/30\n",
            "189/189 - 0s - loss: 0.3549 - accuracy: 0.9122 - val_loss: 0.3365 - val_accuracy: 0.9286\n",
            "Epoch 14/30\n",
            "189/189 - 0s - loss: 0.3386 - accuracy: 0.9153 - val_loss: 0.3244 - val_accuracy: 0.9333\n",
            "Epoch 15/30\n",
            "189/189 - 0s - loss: 0.3245 - accuracy: 0.9238 - val_loss: 0.3128 - val_accuracy: 0.9381\n",
            "Epoch 16/30\n",
            "189/189 - 0s - loss: 0.3127 - accuracy: 0.9275 - val_loss: 0.3039 - val_accuracy: 0.9429\n",
            "Epoch 17/30\n",
            "189/189 - 0s - loss: 0.3026 - accuracy: 0.9280 - val_loss: 0.2939 - val_accuracy: 0.9429\n",
            "Epoch 18/30\n",
            "189/189 - 0s - loss: 0.2938 - accuracy: 0.9296 - val_loss: 0.2861 - val_accuracy: 0.9429\n",
            "Epoch 19/30\n",
            "189/189 - 0s - loss: 0.2865 - accuracy: 0.9302 - val_loss: 0.2801 - val_accuracy: 0.9429\n",
            "Epoch 20/30\n",
            "189/189 - 0s - loss: 0.2804 - accuracy: 0.9302 - val_loss: 0.2737 - val_accuracy: 0.9429\n",
            "Epoch 21/30\n",
            "189/189 - 0s - loss: 0.2752 - accuracy: 0.9302 - val_loss: 0.2712 - val_accuracy: 0.9429\n",
            "Epoch 22/30\n",
            "189/189 - 0s - loss: 0.2708 - accuracy: 0.9328 - val_loss: 0.2686 - val_accuracy: 0.9429\n",
            "Epoch 23/30\n",
            "189/189 - 0s - loss: 0.2672 - accuracy: 0.9354 - val_loss: 0.2631 - val_accuracy: 0.9429\n",
            "Epoch 24/30\n",
            "189/189 - 0s - loss: 0.2639 - accuracy: 0.9354 - val_loss: 0.2592 - val_accuracy: 0.9429\n",
            "Epoch 25/30\n",
            "189/189 - 0s - loss: 0.2615 - accuracy: 0.9360 - val_loss: 0.2587 - val_accuracy: 0.9429\n",
            "Epoch 26/30\n",
            "189/189 - 0s - loss: 0.2591 - accuracy: 0.9354 - val_loss: 0.2557 - val_accuracy: 0.9429\n",
            "Epoch 27/30\n",
            "189/189 - 0s - loss: 0.2573 - accuracy: 0.9376 - val_loss: 0.2529 - val_accuracy: 0.9429\n",
            "Epoch 28/30\n",
            "189/189 - 0s - loss: 0.2555 - accuracy: 0.9381 - val_loss: 0.2520 - val_accuracy: 0.9429\n",
            "Epoch 29/30\n",
            "189/189 - 0s - loss: 0.2540 - accuracy: 0.9392 - val_loss: 0.2495 - val_accuracy: 0.9429\n",
            "Epoch 30/30\n",
            "189/189 - 0s - loss: 0.2529 - accuracy: 0.9365 - val_loss: 0.2509 - val_accuracy: 0.9476\n"
          ],
          "name": "stdout"
        },
        {
          "output_type": "execute_result",
          "data": {
            "text/plain": [
              "<tensorflow.python.keras.callbacks.History at 0x7ff10f486630>"
            ]
          },
          "metadata": {
            "tags": []
          },
          "execution_count": 11
        }
      ]
    },
    {
      "cell_type": "code",
      "metadata": {
        "id": "oaxym_3gBsHF"
      },
      "source": [
        "# Preprocess test data"
      ],
      "execution_count": 12,
      "outputs": []
    },
    {
      "cell_type": "code",
      "metadata": {
        "id": "LMvC2qZKBuTu"
      },
      "source": [
        "test_labels = []\r\n",
        "test_samples = []"
      ],
      "execution_count": 13,
      "outputs": []
    },
    {
      "cell_type": "code",
      "metadata": {
        "id": "_qC9uwWEB08Y"
      },
      "source": [
        "for i in range(10):\r\n",
        "  random_younger = randint(13,64)\r\n",
        "  test_samples.append(random_younger)\r\n",
        "  test_labels.append(1)\r\n",
        "\r\n",
        "  random_older = randint(65,100)\r\n",
        "  test_samples.append(random_older)\r\n",
        "  test_labels.append(0)\r\n",
        "\r\n",
        "for i in range(200):\r\n",
        "  random_younger = randint(13,64)\r\n",
        "  test_samples.append(random_younger)\r\n",
        "  test_labels.append(0)\r\n",
        "\r\n",
        "  random_older = randint(65,100)\r\n",
        "  test_samples.append(random_older)\r\n",
        "  test_labels.append(1)\r\n"
      ],
      "execution_count": 14,
      "outputs": []
    },
    {
      "cell_type": "code",
      "metadata": {
        "id": "tSeFS3c7CYWM"
      },
      "source": [
        "test_labels = np.array(test_labels)\r\n",
        "test_samples = np.array(test_samples)\r\n",
        "test_labels, test_samples = shuffle(test_labels, test_samples)"
      ],
      "execution_count": 15,
      "outputs": []
    },
    {
      "cell_type": "code",
      "metadata": {
        "id": "5WmQn00eCu2D"
      },
      "source": [
        "scaler = MinMaxScaler(feature_range=(0,1))\r\n",
        "sclaed_test_samples = scaler.fit_transform(test_samples.reshape(-1,1))"
      ],
      "execution_count": 16,
      "outputs": []
    },
    {
      "cell_type": "code",
      "metadata": {
        "id": "kOOv_us9DGZx"
      },
      "source": [
        "predictions = model.predict(x=sclaed_test_samples, batch_size=10, verbose=0)"
      ],
      "execution_count": 17,
      "outputs": []
    },
    {
      "cell_type": "code",
      "metadata": {
        "colab": {
          "base_uri": "https://localhost:8080/"
        },
        "id": "xnwWl643DXa2",
        "outputId": "26f2537b-4743-411c-b06e-4c6bf4b880a5"
      },
      "source": [
        "print(predictions)"
      ],
      "execution_count": 19,
      "outputs": [
        {
          "output_type": "stream",
          "text": [
            "[[0.952826   0.04717391]\n",
            " [0.11107683 0.88892317]\n",
            " [0.9387378  0.0612622 ]\n",
            " [0.9532942  0.04670578]\n",
            " [0.95009166 0.04990835]\n",
            " [0.1565407  0.84345925]\n",
            " [0.95037174 0.04962828]\n",
            " [0.94916034 0.0508396 ]\n",
            " [0.01810955 0.98189044]\n",
            " [0.09870884 0.9012912 ]\n",
            " [0.23926061 0.7607394 ]\n",
            " [0.01413101 0.98586893]\n",
            " [0.90628076 0.09371924]\n",
            " [0.9536424  0.04635761]\n",
            " [0.94916034 0.0508396 ]\n",
            " [0.8337465  0.16625348]\n",
            " [0.95255923 0.04744083]\n",
            " [0.8816355  0.11836454]\n",
            " [0.60483116 0.3951689 ]\n",
            " [0.02963215 0.97036785]\n",
            " [0.01810955 0.98189044]\n",
            " [0.60483116 0.3951689 ]\n",
            " [0.31839782 0.6816022 ]\n",
            " [0.9424936  0.05750635]\n",
            " [0.47456646 0.52543354]\n",
            " [0.00972465 0.9902754 ]\n",
            " [0.9536183  0.04638174]\n",
            " [0.95255923 0.04744083]\n",
            " [0.949527   0.05047296]\n",
            " [0.40961647 0.59038347]\n",
            " [0.26407915 0.7359208 ]\n",
            " [0.9529447  0.04705539]\n",
            " [0.01413101 0.98586893]\n",
            " [0.9453936  0.05460639]\n",
            " [0.8146559  0.18534414]\n",
            " [0.9525275  0.04747247]\n",
            " [0.952826   0.04717391]\n",
            " [0.74743116 0.2525689 ]\n",
            " [0.95065033 0.04934971]\n",
            " [0.9476978  0.05230211]\n",
            " [0.0085828  0.9914172 ]\n",
            " [0.9509274  0.04907261]\n",
            " [0.26407915 0.7359208 ]\n",
            " [0.06872612 0.9312739 ]\n",
            " [0.23926061 0.7607394 ]\n",
            " [0.01101671 0.98898333]\n",
            " [0.6658256  0.3341743 ]\n",
            " [0.08758238 0.91241765]\n",
            " [0.9501605  0.0498395 ]\n",
            " [0.9155418  0.08445814]\n",
            " [0.95065033 0.04934971]\n",
            " [0.949527   0.05047296]\n",
            " [0.9532942  0.04670578]\n",
            " [0.9498101  0.0501899 ]\n",
            " [0.9525275  0.04747247]\n",
            " [0.95009166 0.04990835]\n",
            " [0.9536424  0.04635761]\n",
            " [0.01101671 0.98898333]\n",
            " [0.3781483  0.62185174]\n",
            " [0.08758238 0.91241765]\n",
            " [0.86716765 0.13283232]\n",
            " [0.94916034 0.0508396 ]\n",
            " [0.0085828  0.9914172 ]\n",
            " [0.40961647 0.59038347]\n",
            " [0.9424936  0.05750635]\n",
            " [0.9529447  0.04705539]\n",
            " [0.17474984 0.8252502 ]\n",
            " [0.02049264 0.9795074 ]\n",
            " [0.77150387 0.22849612]\n",
            " [0.5729192  0.42708084]\n",
            " [0.95335555 0.04664439]\n",
            " [0.95335555 0.04664439]\n",
            " [0.7217369  0.2782631 ]\n",
            " [0.50751007 0.49248993]\n",
            " [0.31839782 0.6816022 ]\n",
            " [0.09870884 0.9012912 ]\n",
            " [0.60483116 0.3951689 ]\n",
            " [0.50751007 0.49248993]\n",
            " [0.03347979 0.96652025]\n",
            " [0.92348814 0.07651184]\n",
            " [0.9344912  0.06550883]\n",
            " [0.11107683 0.88892317]\n",
            " [0.1565407  0.84345925]\n",
            " [0.40961647 0.59038347]\n",
            " [0.9498101  0.0501899 ]\n",
            " [0.17474984 0.8252502 ]\n",
            " [0.09870884 0.9012912 ]\n",
            " [0.01413101 0.98586893]\n",
            " [0.44184285 0.5581571 ]\n",
            " [0.95255923 0.04744083]\n",
            " [0.9498101  0.0501899 ]\n",
            " [0.8146559  0.18534414]\n",
            " [0.951203   0.048797  ]\n",
            " [0.21608947 0.7839106 ]\n",
            " [0.94916034 0.0508396 ]\n",
            " [0.6658256  0.3341743 ]\n",
            " [0.01810955 0.98189044]\n",
            " [0.23926061 0.7607394 ]\n",
            " [0.95309156 0.04690845]\n",
            " [0.09870884 0.9012912 ]\n",
            " [0.95255923 0.04744083]\n",
            " [0.47456646 0.52543354]\n",
            " [0.21608947 0.7839106 ]\n",
            " [0.13990732 0.8600927 ]\n",
            " [0.85122997 0.14877006]\n",
            " [0.02621467 0.9737854 ]\n",
            " [0.949527   0.05047296]\n",
            " [0.07760208 0.922398  ]\n",
            " [0.77150387 0.22849612]\n",
            " [0.26407915 0.73592085]\n",
            " [0.6658256  0.3341743 ]\n",
            " [0.21608947 0.7839106 ]\n",
            " [0.9424936  0.05750635]\n",
            " [0.04267015 0.95732987]\n",
            " [0.952826   0.04717391]\n",
            " [0.13990732 0.8600927 ]\n",
            " [0.01101671 0.98898333]\n",
            " [0.9509274  0.04907261]\n",
            " [0.23926061 0.7607394 ]\n",
            " [0.94916034 0.0508396 ]\n",
            " [0.0085828  0.9914172 ]\n",
            " [0.02621467 0.9737854 ]\n",
            " [0.50751007 0.49248993]\n",
            " [0.95037174 0.04962828]\n",
            " [0.47456646 0.52543354]\n",
            " [0.0124783  0.9875217 ]\n",
            " [0.90628076 0.09371924]\n",
            " [0.69449717 0.30550286]\n",
            " [0.9532942  0.04670578]\n",
            " [0.8947187  0.10528126]\n",
            " [0.01599908 0.9840009 ]\n",
            " [0.9387378  0.0612622 ]\n",
            " [0.04267015 0.95732987]\n",
            " [0.13990732 0.8600927 ]\n",
            " [0.1565407  0.84345925]\n",
            " [0.0085828  0.9914172 ]\n",
            " [0.90628076 0.09371924]\n",
            " [0.04812682 0.9518732 ]\n",
            " [0.95174986 0.04825016]\n",
            " [0.44184285 0.5581571 ]\n",
            " [0.95174986 0.04825016]\n",
            " [0.3781483  0.62185174]\n",
            " [0.9509274  0.04907261]\n",
            " [0.9476978  0.05230211]\n",
            " [0.05424171 0.9457582 ]\n",
            " [0.11107683 0.88892317]\n",
            " [0.95114195 0.04885808]\n",
            " [0.50751007 0.49248993]\n",
            " [0.95202106 0.04797894]\n",
            " [0.9509274  0.04907261]\n",
            " [0.26407915 0.7359208 ]\n",
            " [0.8337465  0.16625348]\n",
            " [0.21608947 0.7839106 ]\n",
            " [0.47456646 0.52543354]\n",
            " [0.01101671 0.98898333]\n",
            " [0.08758238 0.91241765]\n",
            " [0.01810955 0.98189044]\n",
            " [0.0124783  0.9875217 ]\n",
            " [0.90628076 0.09371924]\n",
            " [0.3781483  0.62185174]\n",
            " [0.34767392 0.65232605]\n",
            " [0.7939149  0.20608513]\n",
            " [0.26407915 0.7359208 ]\n",
            " [0.44184285 0.5581571 ]\n",
            " [0.95335555 0.04664439]\n",
            " [0.952826   0.04717391]\n",
            " [0.1565407  0.84345925]\n",
            " [0.95203704 0.04796296]\n",
            " [0.47456646 0.52543354]\n",
            " [0.08758238 0.91241765]\n",
            " [0.34767392 0.65232605]\n",
            " [0.9532942  0.04670578]\n",
            " [0.9476978  0.05230211]\n",
            " [0.0085828  0.9914172 ]\n",
            " [0.05424171 0.9457582 ]\n",
            " [0.07760208 0.922398  ]\n",
            " [0.9476978  0.05230211]\n",
            " [0.9532942  0.04670578]\n",
            " [0.17474984 0.8252502 ]\n",
            " [0.94916034 0.0508396 ]\n",
            " [0.5729192  0.42708084]\n",
            " [0.69449717 0.30550286]\n",
            " [0.0085828  0.9914172 ]\n",
            " [0.949527   0.05047296]\n",
            " [0.9532942  0.04670578]\n",
            " [0.31839782 0.6816022 ]\n",
            " [0.7939149  0.20608513]\n",
            " [0.9387378  0.0612622 ]\n",
            " [0.95346856 0.04653139]\n",
            " [0.04812682 0.9518732 ]\n",
            " [0.19458847 0.8054115 ]\n",
            " [0.6658256  0.3341743 ]\n",
            " [0.47456646 0.52543354]\n",
            " [0.92348814 0.07651184]\n",
            " [0.95202106 0.04797894]\n",
            " [0.9525275  0.04747247]\n",
            " [0.05424171 0.9457582 ]\n",
            " [0.6358739  0.36412606]\n",
            " [0.01810955 0.98189044]\n",
            " [0.19458847 0.8054115 ]\n",
            " [0.00972465 0.9902754 ]\n",
            " [0.95309156 0.04690845]\n",
            " [0.13990732 0.8600927 ]\n",
            " [0.95174986 0.04825016]\n",
            " [0.05424171 0.9457582 ]\n",
            " [0.11107683 0.88892317]\n",
            " [0.11107683 0.88892317]\n",
            " [0.31839782 0.6816022 ]\n",
            " [0.17474984 0.8252502 ]\n",
            " [0.77150387 0.22849612]\n",
            " [0.17474984 0.8252502 ]\n",
            " [0.3781483  0.62185174]\n",
            " [0.01101671 0.98898333]\n",
            " [0.54038846 0.45961154]\n",
            " [0.02621467 0.9737854 ]\n",
            " [0.11107683 0.88892317]\n",
            " [0.95309156 0.04690845]\n",
            " [0.21608947 0.7839106 ]\n",
            " [0.34767386 0.65232605]\n",
            " [0.95309156 0.04690845]\n",
            " [0.8816355  0.11836454]\n",
            " [0.0085828  0.9914172 ]\n",
            " [0.9509274  0.04907261]\n",
            " [0.02963215 0.97036785]\n",
            " [0.40961647 0.59038347]\n",
            " [0.11107683 0.88892317]\n",
            " [0.7939149  0.20608513]\n",
            " [0.95346856 0.04653139]\n",
            " [0.92348814 0.07651184]\n",
            " [0.9344912  0.06550883]\n",
            " [0.0124783  0.9875217 ]\n",
            " [0.8146559  0.18534414]\n",
            " [0.11107683 0.88892317]\n",
            " [0.50751007 0.49248993]\n",
            " [0.12477982 0.8752202 ]\n",
            " [0.02049264 0.9795074 ]\n",
            " [0.11107683 0.88892317]\n",
            " [0.9294713  0.07052868]\n",
            " [0.85122997 0.14877006]\n",
            " [0.9476978  0.05230211]\n",
            " [0.50751007 0.49248993]\n",
            " [0.94916034 0.0508396 ]\n",
            " [0.50751007 0.49248993]\n",
            " [0.01101671 0.98898333]\n",
            " [0.9536183  0.04638174]\n",
            " [0.26407915 0.7359208 ]\n",
            " [0.95114195 0.04885808]\n",
            " [0.9532942  0.04670578]\n",
            " [0.08758238 0.91241765]\n",
            " [0.02963215 0.97036785]\n",
            " [0.9387378  0.0612622 ]\n",
            " [0.04267015 0.95732987]\n",
            " [0.951203   0.048797  ]\n",
            " [0.01101671 0.98898333]\n",
            " [0.5729192  0.42708084]\n",
            " [0.03780762 0.9621924 ]\n",
            " [0.01810955 0.98189044]\n",
            " [0.04812682 0.9518732 ]\n",
            " [0.02963215 0.97036785]\n",
            " [0.02049264 0.9795074 ]\n",
            " [0.02963215 0.97036785]\n",
            " [0.47456646 0.52543354]\n",
            " [0.17474984 0.8252502 ]\n",
            " [0.0124783  0.9875217 ]\n",
            " [0.95037174 0.04962828]\n",
            " [0.952826   0.04717391]\n",
            " [0.95309156 0.04690845]\n",
            " [0.01413101 0.98586893]\n",
            " [0.01101671 0.98898333]\n",
            " [0.6658256  0.3341743 ]\n",
            " [0.95346856 0.04653139]\n",
            " [0.74743116 0.2525689 ]\n",
            " [0.74743116 0.2525689 ]\n",
            " [0.09870884 0.9012912 ]\n",
            " [0.86716765 0.13283232]\n",
            " [0.02963215 0.97036785]\n",
            " [0.95009166 0.04990835]\n",
            " [0.60483116 0.3951689 ]\n",
            " [0.13990732 0.8600927 ]\n",
            " [0.06108374 0.9389162 ]\n",
            " [0.40961647 0.59038347]\n",
            " [0.95255923 0.04744083]\n",
            " [0.04267015 0.95732987]\n",
            " [0.951203   0.048797  ]\n",
            " [0.7939149  0.20608513]\n",
            " [0.0085828  0.9914172 ]\n",
            " [0.02318192 0.9768181 ]\n",
            " [0.0085828  0.9914172 ]\n",
            " [0.9498101  0.0501899 ]\n",
            " [0.47456646 0.52543354]\n",
            " [0.47456646 0.52543354]\n",
            " [0.08758238 0.91241765]\n",
            " [0.07760208 0.922398  ]\n",
            " [0.23926061 0.7607394 ]\n",
            " [0.9424936  0.05750635]\n",
            " [0.01413101 0.98586893]\n",
            " [0.7217369  0.2782631 ]\n",
            " [0.13990732 0.8600927 ]\n",
            " [0.0085828  0.9914172 ]\n",
            " [0.34767386 0.65232605]\n",
            " [0.8947187  0.10528126]\n",
            " [0.1565407  0.84345925]\n",
            " [0.04812682 0.9518732 ]\n",
            " [0.9498101  0.0501899 ]\n",
            " [0.29048932 0.7095106 ]\n",
            " [0.01599908 0.9840009 ]\n",
            " [0.03347979 0.96652025]\n",
            " [0.9424936  0.05750635]\n",
            " [0.95009166 0.04990835]\n",
            " [0.29048935 0.7095106 ]\n",
            " [0.21608947 0.7839106 ]\n",
            " [0.0085828  0.9914172 ]\n",
            " [0.9453936  0.05460639]\n",
            " [0.09870884 0.9012912 ]\n",
            " [0.9476978  0.05230211]\n",
            " [0.9501605  0.0498395 ]\n",
            " [0.0124783  0.9875217 ]\n",
            " [0.26407915 0.7359208 ]\n",
            " [0.6358739  0.36412606]\n",
            " [0.9509274  0.04907261]\n",
            " [0.44184285 0.5581571 ]\n",
            " [0.0124783  0.9875217 ]\n",
            " [0.02963215 0.97036785]\n",
            " [0.11107683 0.88892317]\n",
            " [0.01599908 0.9840009 ]\n",
            " [0.01101671 0.98898333]\n",
            " [0.34767392 0.65232605]\n",
            " [0.9536424  0.04635761]\n",
            " [0.1565407  0.84345925]\n",
            " [0.8947187  0.10528126]\n",
            " [0.74743116 0.2525689 ]\n",
            " [0.17474984 0.8252502 ]\n",
            " [0.77150387 0.22849612]\n",
            " [0.12477982 0.8752202 ]\n",
            " [0.03780762 0.9621924 ]\n",
            " [0.949527   0.05047296]\n",
            " [0.86716765 0.13283232]\n",
            " [0.02621467 0.9737854 ]\n",
            " [0.92348814 0.07651184]\n",
            " [0.95114195 0.04885808]\n",
            " [0.95346856 0.04653139]\n",
            " [0.77150387 0.22849612]\n",
            " [0.02621467 0.9737854 ]\n",
            " [0.31839782 0.6816022 ]\n",
            " [0.00972465 0.9902754 ]\n",
            " [0.5729192  0.42708084]\n",
            " [0.01810955 0.98189044]\n",
            " [0.9387378  0.0612622 ]\n",
            " [0.77150387 0.22849612]\n",
            " [0.7939149  0.20608513]\n",
            " [0.03780762 0.9621924 ]\n",
            " [0.9529447  0.04705539]\n",
            " [0.74743116 0.2525689 ]\n",
            " [0.26407915 0.7359208 ]\n",
            " [0.60483116 0.3951689 ]\n",
            " [0.23926061 0.7607394 ]\n",
            " [0.13990732 0.8600927 ]\n",
            " [0.01599908 0.9840009 ]\n",
            " [0.01413101 0.98586893]\n",
            " [0.40961647 0.59038347]\n",
            " [0.6658256  0.3341743 ]\n",
            " [0.17474984 0.8252502 ]\n",
            " [0.31839782 0.6816022 ]\n",
            " [0.23926061 0.7607394 ]\n",
            " [0.86716765 0.13283232]\n",
            " [0.23926061 0.7607394 ]\n",
            " [0.95065033 0.04934971]\n",
            " [0.29048932 0.7095106 ]\n",
            " [0.08758238 0.91241765]\n",
            " [0.0085828  0.9914172 ]\n",
            " [0.03347979 0.96652025]\n",
            " [0.9294713  0.07052868]\n",
            " [0.06872612 0.9312739 ]\n",
            " [0.13990732 0.8600927 ]\n",
            " [0.03780762 0.9621924 ]\n",
            " [0.8337465  0.16625348]\n",
            " [0.9498101  0.0501899 ]\n",
            " [0.9294713  0.07052868]\n",
            " [0.11107683 0.88892317]\n",
            " [0.05424171 0.9457582 ]\n",
            " [0.04267015 0.95732987]\n",
            " [0.95309156 0.04690845]\n",
            " [0.95009166 0.04990835]\n",
            " [0.74743116 0.2525689 ]\n",
            " [0.06108374 0.9389162 ]\n",
            " [0.95065033 0.04934971]\n",
            " [0.85122997 0.14877006]\n",
            " [0.11107683 0.88892317]\n",
            " [0.19458847 0.8054115 ]\n",
            " [0.8816355  0.11836454]\n",
            " [0.7217369  0.2782631 ]\n",
            " [0.90628076 0.09371924]\n",
            " [0.23926061 0.7607394 ]\n",
            " [0.40961647 0.59038347]\n",
            " [0.01810955 0.98189044]\n",
            " [0.77150387 0.22849612]\n",
            " [0.6658256  0.3341743 ]\n",
            " [0.95147717 0.04852286]\n",
            " [0.95037174 0.04962828]\n",
            " [0.0124783  0.9875217 ]\n",
            " [0.12477982 0.8752202 ]\n",
            " [0.03347979 0.96652025]\n",
            " [0.8337465  0.16625348]\n",
            " [0.9344912  0.06550883]\n",
            " [0.92348814 0.07651184]\n",
            " [0.9424936  0.05750635]\n",
            " [0.07760208 0.922398  ]\n",
            " [0.01101671 0.98898333]\n",
            " [0.05424171 0.9457582 ]\n",
            " [0.01810955 0.98189044]\n",
            " [0.95037174 0.04962828]\n",
            " [0.26407915 0.7359208 ]\n",
            " [0.03347979 0.96652025]\n",
            " [0.08758238 0.91241765]\n",
            " [0.23926061 0.7607394 ]\n",
            " [0.01101671 0.98898333]\n",
            " [0.85122997 0.14877006]\n",
            " [0.95255923 0.04744083]\n",
            " [0.29048935 0.7095106 ]\n",
            " [0.29048935 0.7095106 ]]\n"
          ],
          "name": "stdout"
        }
      ]
    },
    {
      "cell_type": "code",
      "metadata": {
        "id": "C3ccpIO6DaAs"
      },
      "source": [
        "rounded_predictions = np.argmax(predictions, axis=1)"
      ],
      "execution_count": 20,
      "outputs": []
    },
    {
      "cell_type": "code",
      "metadata": {
        "colab": {
          "base_uri": "https://localhost:8080/"
        },
        "id": "AvSHB9Z0EFLE",
        "outputId": "855be08a-2e63-482c-981a-0078b726e11d"
      },
      "source": [
        "print(rounded_predictions)"
      ],
      "execution_count": 21,
      "outputs": [
        {
          "output_type": "stream",
          "text": [
            "[0 1 0 0 0 1 0 0 1 1 1 1 0 0 0 0 0 0 0 1 1 0 1 0 1 1 0 0 0 1 1 0 1 0 0 0 0\n",
            " 0 0 0 1 0 1 1 1 1 0 1 0 0 0 0 0 0 0 0 0 1 1 1 0 0 1 1 0 0 1 1 0 0 0 0 0 0\n",
            " 1 1 0 0 1 0 0 1 1 1 0 1 1 1 1 0 0 0 0 1 0 0 1 1 0 1 0 1 1 1 0 1 0 1 0 1 0\n",
            " 1 0 1 0 1 1 0 1 0 1 1 0 0 1 1 0 0 0 0 1 0 1 1 1 1 0 1 0 1 0 1 0 0 1 1 0 0\n",
            " 0 0 1 0 1 1 1 1 1 1 0 1 1 0 1 1 0 0 1 0 1 1 1 0 0 1 1 1 0 0 1 0 0 0 1 0 0\n",
            " 1 0 0 0 1 1 0 1 0 0 0 1 0 1 1 1 0 1 0 1 1 1 1 1 0 1 1 1 0 1 1 0 1 1 0 0 1\n",
            " 0 1 1 1 0 0 0 0 1 0 1 0 1 1 1 0 0 0 0 0 0 1 0 1 0 0 1 1 0 1 0 1 0 1 1 1 1\n",
            " 1 1 1 1 1 0 0 0 1 1 0 0 0 0 1 0 1 0 0 1 1 1 0 1 0 0 1 1 1 0 1 1 1 1 1 0 1\n",
            " 0 1 1 1 0 1 1 0 1 1 1 0 0 1 1 1 0 1 0 0 1 1 0 0 1 1 1 1 1 1 1 0 1 0 0 1 0\n",
            " 1 1 0 0 1 0 0 0 0 1 1 1 0 1 0 0 0 1 0 0 1 0 1 1 1 1 1 0 1 1 1 0 1 0 1 1 1\n",
            " 1 0 1 1 1 0 0 0 1 1 1 0 0 0 1 0 0 1 1 0 0 0 1 1 1 0 0 0 0 1 1 1 0 0 0 0 1\n",
            " 1 1 1 0 1 1 1 1 1 0 0 1 1]\n"
          ],
          "name": "stdout"
        }
      ]
    },
    {
      "cell_type": "code",
      "metadata": {
        "id": "NFZEHvVsEGqg"
      },
      "source": [
        "# Confusion Matrix"
      ],
      "execution_count": 22,
      "outputs": []
    },
    {
      "cell_type": "code",
      "metadata": {
        "id": "65oLbtFTEzRd"
      },
      "source": [
        "%matplotlib inline\r\n",
        "from sklearn.metrics import confusion_matrix\r\n",
        "import itertools\r\n",
        "import matplotlib.pyplot as plt"
      ],
      "execution_count": 23,
      "outputs": []
    },
    {
      "cell_type": "code",
      "metadata": {
        "id": "AQ1wEhbtFJkK"
      },
      "source": [
        "cm = confusion_matrix(y_true=test_labels, y_pred=rounded_predictions)"
      ],
      "execution_count": 24,
      "outputs": []
    },
    {
      "cell_type": "code",
      "metadata": {
        "id": "E-GN8bDYFVW0"
      },
      "source": [
        "def plot_confusion_matrix(cm, classes,\r\n",
        "                          normalize=False,\r\n",
        "                          title='Confusion matrix',\r\n",
        "                          cmap=plt.cm.Blues):\r\n",
        "    \"\"\"\r\n",
        "    This function prints and plots the confusion matrix.\r\n",
        "    Normalization can be applied by setting `normalize=True`.\r\n",
        "    \"\"\"\r\n",
        "    plt.imshow(cm, interpolation='nearest', cmap=cmap)\r\n",
        "    plt.title(title)\r\n",
        "    plt.colorbar()\r\n",
        "    tick_marks = np.arange(len(classes))\r\n",
        "    plt.xticks(tick_marks, classes, rotation=45)\r\n",
        "    plt.yticks(tick_marks, classes)\r\n",
        "\r\n",
        "    if normalize:\r\n",
        "        cm = cm.astype('float') / cm.sum(axis=1)[:, np.newaxis]\r\n",
        "        print(\"Normalized confusion matrix\")\r\n",
        "    else:\r\n",
        "        print('Confusion matrix, without normalization')\r\n",
        "\r\n",
        "    print(cm)\r\n",
        "\r\n",
        "    thresh = cm.max() / 2.\r\n",
        "    for i, j in itertools.product(range(cm.shape[0]), range(cm.shape[1])):\r\n",
        "        plt.text(j, i, cm[i, j],\r\n",
        "                 horizontalalignment=\"center\",\r\n",
        "                 color=\"white\" if cm[i, j] > thresh else \"black\")\r\n",
        "\r\n",
        "    plt.tight_layout()\r\n",
        "    plt.ylabel('True label')\r\n",
        "    plt.xlabel('Predicted label')"
      ],
      "execution_count": 25,
      "outputs": []
    },
    {
      "cell_type": "code",
      "metadata": {
        "colab": {
          "base_uri": "https://localhost:8080/",
          "height": 362
        },
        "id": "GPv1EAsDGxBM",
        "outputId": "5ad67187-51ec-4699-9d93-bc0554882d3b"
      },
      "source": [
        "cm_plot_labels = ['no_side_effects', 'had_side_effects']\r\n",
        "plot_confusion_matrix(cm=cm,classes=cm_plot_labels, title='Confusion Matrix')"
      ],
      "execution_count": 26,
      "outputs": [
        {
          "output_type": "stream",
          "text": [
            "Confusion matrix, without normalization\n",
            "[[192  18]\n",
            " [  9 201]]\n"
          ],
          "name": "stdout"
        },
        {
          "output_type": "display_data",
          "data": {
            "image/png": "[encoded data removed]",
            "text/plain": [
              "<Figure size 432x288 with 2 Axes>"
            ]
          },
          "metadata": {
            "tags": [],
            "needs_background": "light"
          }
        }
      ]
    },
    {
      "cell_type": "markdown",
      "metadata": {
        "id": "MmX7QWTDIEcY"
      },
      "source": [
        "Saving the model"
      ]
    },
    {
      "cell_type": "markdown",
      "metadata": {
        "id": "gaiLoYNdILwC"
      },
      "source": [
        "1. Model.save()"
      ]
    },
    {
      "cell_type": "code",
      "metadata": {
        "id": "G9LcbrRQIINJ"
      },
      "source": [
        "# import os.path\r\n",
        "# if os.path.isfile('models/medical_trial_model.h5') is False:\r\n",
        "#   model.save('models/medical_trial_model.h5')"
      ],
      "execution_count": 28,
      "outputs": []
    },
    {
      "cell_type": "code",
      "metadata": {
        "id": "13-s6qUUIqPB"
      },
      "source": [
        "# load the model\r\n",
        "# from tensorflow.keras.models import load_model\r\n",
        "# new_model = load_model('models/medical_trial_model.h5')"
      ],
      "execution_count": 31,
      "outputs": []
    },
    {
      "cell_type": "markdown",
      "metadata": {
        "id": "CsxqeLj-JfRl"
      },
      "source": [
        "2. model.to_json()  \r\n",
        "\r\n",
        "    Useful when only architecture of the model is to be saved and not its     weights or its training configuration, i.e. save architecture only"
      ]
    },
    {
      "cell_type": "code",
      "metadata": {
        "id": "XswjtrsVJbvh"
      },
      "source": [
        "# save as json\r\n",
        "json_string = model.to_json()\r\n",
        "# save as yaml\r\n",
        "yaml_string = model.to_yaml()"
      ],
      "execution_count": 32,
      "outputs": []
    },
    {
      "cell_type": "code",
      "metadata": {
        "colab": {
          "base_uri": "https://localhost:8080/",
          "height": 120
        },
        "id": "4piOINwjMWha",
        "outputId": "e9f6e062-fc06-472b-ef13-fbefb0101a0b"
      },
      "source": [
        "json_string"
      ],
      "execution_count": 33,
      "outputs": [
        {
          "output_type": "execute_result",
          "data": {
            "application/vnd.google.colaboratory.intrinsic+json": {
              "type": "string"
            },
            "text/plain": [
              "'{\"class_name\": \"Sequential\", \"config\": {\"name\": \"sequential\", \"layers\": [{\"class_name\": \"InputLayer\", \"config\": {\"batch_input_shape\": [null, 1], \"dtype\": \"float32\", \"sparse\": false, \"ragged\": false, \"name\": \"dense_input\"}}, {\"class_name\": \"Dense\", \"config\": {\"name\": \"dense\", \"trainable\": true, \"batch_input_shape\": [null, 1], \"dtype\": \"float32\", \"units\": 16, \"activation\": \"relu\", \"use_bias\": true, \"kernel_initializer\": {\"class_name\": \"GlorotUniform\", \"config\": {\"seed\": null}}, \"bias_initializer\": {\"class_name\": \"Zeros\", \"config\": {}}, \"kernel_regularizer\": null, \"bias_regularizer\": null, \"activity_regularizer\": null, \"kernel_constraint\": null, \"bias_constraint\": null}}, {\"class_name\": \"Dense\", \"config\": {\"name\": \"dense_1\", \"trainable\": true, \"dtype\": \"float32\", \"units\": 32, \"activation\": \"relu\", \"use_bias\": true, \"kernel_initializer\": {\"class_name\": \"GlorotUniform\", \"config\": {\"seed\": null}}, \"bias_initializer\": {\"class_name\": \"Zeros\", \"config\": {}}, \"kernel_regularizer\": null, \"bias_regularizer\": null, \"activity_regularizer\": null, \"kernel_constraint\": null, \"bias_constraint\": null}}, {\"class_name\": \"Dense\", \"config\": {\"name\": \"dense_2\", \"trainable\": true, \"dtype\": \"float32\", \"units\": 2, \"activation\": \"softmax\", \"use_bias\": true, \"kernel_initializer\": {\"class_name\": \"GlorotUniform\", \"config\": {\"seed\": null}}, \"bias_initializer\": {\"class_name\": \"Zeros\", \"config\": {}}, \"kernel_regularizer\": null, \"bias_regularizer\": null, \"activity_regularizer\": null, \"kernel_constraint\": null, \"bias_constraint\": null}}]}, \"keras_version\": \"2.4.0\", \"backend\": \"tensorflow\"}'"
            ]
          },
          "metadata": {
            "tags": []
          },
          "execution_count": 33
        }
      ]
    },
    {
      "cell_type": "code",
      "metadata": {
        "id": "LboVpV-EMZQl"
      },
      "source": [
        "from tensorflow.keras.models import model_from_json\r\n",
        "model_architecture = model_from_json(json_string)"
      ],
      "execution_count": 34,
      "outputs": []
    },
    {
      "cell_type": "code",
      "metadata": {
        "colab": {
          "base_uri": "https://localhost:8080/"
        },
        "id": "Feh40wanMryE",
        "outputId": "254b1bb6-e603-4a77-8a8e-0a5f2dd9fec1"
      },
      "source": [
        "model_architecture.summary()"
      ],
      "execution_count": 35,
      "outputs": [
        {
          "output_type": "stream",
          "text": [
            "Model: \"sequential\"\n",
            "_________________________________________________________________\n",
            "Layer (type)                 Output Shape              Param #   \n",
            "=================================================================\n",
            "dense (Dense)                (None, 16)                32        \n",
            "_________________________________________________________________\n",
            "dense_1 (Dense)              (None, 32)                544       \n",
            "_________________________________________________________________\n",
            "dense_2 (Dense)              (None, 2)                 66        \n",
            "=================================================================\n",
            "Total params: 642\n",
            "Trainable params: 642\n",
            "Non-trainable params: 0\n",
            "_________________________________________________________________\n"
          ],
          "name": "stdout"
        }
      ]
    },
    {
      "cell_type": "markdown",
      "metadata": {
        "id": "tAJbNmTJM15k"
      },
      "source": [
        "model.save_weights()\r\n",
        "\r\n",
        "Only saves weights of the model not the architecture"
      ]
    },
    {
      "cell_type": "code",
      "metadata": {
        "id": "XG6nTRzaNCfN"
      },
      "source": [
        "# import os.path\r\n",
        "# if os.path.isfile('models/medical_trial_model.h5') is False:\r\n",
        "#   model.save_weights('models/medical_trial_model.h5')"
      ],
      "execution_count": 36,
      "outputs": []
    },
    {
      "cell_type": "code",
      "metadata": {
        "id": "n5LW-fmcNSkL"
      },
      "source": [
        "# load the model\r\n",
        "\r\n",
        "# first generate the architecture of the model\r\n",
        "model2 = Sequential([\r\n",
        " Dense(units=16, input_shape=(1,), activation='relu'),\r\n",
        " Dense(units=32, activation='relu'),\r\n",
        " Dense(2, activation='softmax')\r\n",
        "])"
      ],
      "execution_count": 38,
      "outputs": []
    },
    {
      "cell_type": "code",
      "metadata": {
        "id": "o6TqoZd1NpLD"
      },
      "source": [
        "# model2.load_weights('models/medical_trial_model.h5')\r\n",
        "# model2.get_weights()"
      ],
      "execution_count": 1,
      "outputs": []
    },
    {
      "cell_type": "code",
      "metadata": {
        "id": "szSSYkyYgdG_"
      },
      "source": [
        ""
      ],
      "execution_count": 1,
      "outputs": []
    },
    {
      "cell_type": "code",
      "metadata": {
        "id": "_dvaBtdIgeaH"
      },
      "source": [
        ""
      ],
      "execution_count": null,
      "outputs": []
    }
  ]
}