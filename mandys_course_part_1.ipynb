{
  "nbformat": 4,
  "nbformat_minor": 0,
  "metadata": {
    "colab": {
      "name": "mandys_course_part_1.ipynb",
      "provenance": [],
      "collapsed_sections": []
    },
    "kernelspec": {
      "name": "python3",
      "display_name": "Python 3"
    }
  },
  "cells": [
    {
      "cell_type": "markdown",
      "metadata": {
        "id": "VecsK70NesSk"
      },
      "source": [
        "Keras Sequential model\r\n",
        "(A linear stack of layers)\r\n",
        "\r\n",
        "https://www.youtube.com/playlist?list=PLZbbT5o_s2xq7LwI2y8_QtvuXZedL6tQU\r\n",
        "\r\n"
      ]
    },
    {
      "cell_type": "code",
      "metadata": {
        "id": "b-i055KPe2FL"
      },
      "source": [
        "from keras.models import Sequential\r\n",
        "from keras.layers import Dense, Activation"
      ],
      "execution_count": 1,
      "outputs": []
    },
    {
      "cell_type": "code",
      "metadata": {
        "id": "povJkoBrfYNs"
      },
      "source": [
        "# Create a keras sequential model, the type of layers here are Dense\r\n",
        "model = Sequential([\r\n",
        "    Dense(32, input_shape=(10,), activation='relu'), # 32 is the number of neurons within the layer\r\n",
        "    Dense(2, activation='softmax')\r\n",
        "])\r\n",
        "#  youtube.com/watch?v=hfK_dvC-avg&list=PLZbbT5o_s2xq7LwI2y8_QtvuXZedL6tQU&index=3"
      ],
      "execution_count": 3,
      "outputs": []
    },
    {
      "cell_type": "code",
      "metadata": {
        "id": "NYS8b728gMSQ"
      },
      "source": [
        "# Layers in an ANN\r\n",
        "# Artificial neural networks are typically organised as layers. Different types of layers :-\r\n",
        "# 1. dense (fully connected), 2. Convolutional layers, 3. pooling layers, 4. Recurrent layers, 5.Normalization layers, \r\n",
        "# 2. is used for image data\r\n",
        "# 4. is used for time series data\r\n",
        "# 1. just connects each input to each output within its layer\r\n",
        "\r\n",
        "# Each connection from one unit (node) will have its own weight (0 and 1), representing the strength of connection b/w units.\r\n",
        "model = Sequential([ # an array as constructor\r\n",
        "  Dense(5, input_shape=(3,), activation='relu'), # hidden layer, we specify input_shape here\r\n",
        "  Dense(2, activation='softmax')   # output layer\r\n",
        "]) # we can specify as many layers as we want\r\n",
        "# only the first layer within the sequential model, requires the input_shape, because it needs to understand input\r\n",
        "\r\n",
        "# https://www.youtube.com/watch?v=FK77zZxaBoI&list=PLZbbT5o_s2xq7LwI2y8_QtvuXZedL6tQU&index=4"
      ],
      "execution_count": 5,
      "outputs": []
    },
    {
      "cell_type": "code",
      "metadata": {
        "id": "C2QDGfd1jgwD"
      },
      "source": [
        "# Activation functions\r\n",
        "# sigmoid, relu, softmax\r\n",
        "model = Sequential([\r\n",
        "  Dense(5, input_shape=(3,), activation='relu')\r\n",
        "])\r\n",
        "# another way\r\n",
        "model = Sequential()\r\n",
        "model.add(Dense(5, input_shape=(3,)))\r\n",
        "model.add(Activation('relu'))\r\n",
        "\r\n",
        "#  youtube.com/watch?v=m0pIlLfpXWE&list=PLZbbT5o_s2xq7LwI2y8_QtvuXZedL6tQU&index=5"
      ],
      "execution_count": 7,
      "outputs": []
    },
    {
      "cell_type": "code",
      "metadata": {
        "id": "gb9KSunwmqkn"
      },
      "source": [
        "# Training ANN\r\n",
        "# https://www.youtube.com/watch?v=sZAlS3_dnk0&list=PLZbbT5o_s2xq7LwI2y8_QtvuXZedL6tQU&index=6\r\n",
        "# https://www.youtube.com/watch?v=_N5kpSMDf4o&list=PLZbbT5o_s2xq7LwI2y8_QtvuXZedL6tQU&index=7\r\n",
        "\r\n",
        "import keras\r\n",
        "from keras.models import Sequential\r\n",
        "from keras.layers import Activation\r\n",
        "from keras.layers.core import Dense\r\n",
        "from keras.optimizers import Adam\r\n",
        "from keras.metrics import categorical_crossentropy"
      ],
      "execution_count": 9,
      "outputs": []
    },
    {
      "cell_type": "code",
      "metadata": {
        "id": "oSv2qB3cqfxp"
      },
      "source": [
        "model = Sequential([\r\n",
        "  Dense(16, input_shape=(1,),activation='relu'),\r\n",
        "  Dense(32, activation='relu'),\r\n",
        "  Dense(2, activation='softmax')\r\n",
        "])"
      ],
      "execution_count": 10,
      "outputs": []
    },
    {
      "cell_type": "code",
      "metadata": {
        "id": "LW04OQYprSP4"
      },
      "source": [
        "# compile the model\r\n",
        "model.compile(Adam(learning_rate=0.001), loss='sparse_categorical_crossentropy', metrics=['accuracy'])\r\n",
        "# Adam is a variant of sgd\r\n",
        "# loss function could be one of many options\r\n",
        "# metrics == accuracy, means accuracy will be printed out in the console"
      ],
      "execution_count": 11,
      "outputs": []
    },
    {
      "cell_type": "code",
      "metadata": {
        "id": "XDYBbXlxsAKg"
      },
      "source": [
        "# model.fit(scaled_train_samples, train_labels, batch_size=10, epochs=20, shuffle=True, verbose=2)\r\n",
        "# batch_size :- how many pieces of data we want to send to the model at once\r\n",
        "# epochs :- 20 individual passes of the data\r\n",
        "# shuffle = True:- Shuffles data with each epoch\r\n",
        "# verbose = 1 :- Specifies how much output we want to see, whenever we train our model"
      ],
      "execution_count": 12,
      "outputs": []
    },
    {
      "cell_type": "code",
      "metadata": {
        "id": "Qh2a6bpus5n5"
      },
      "source": [
        "# Changing the learning rate https://www.youtube.com/watch?v=jWT-AX9677k&list=PLZbbT5o_s2xq7LwI2y8_QtvuXZedL6tQU&index=9\r\n",
        "model.optimizer.lr = 0.01"
      ],
      "execution_count": 14,
      "outputs": []
    },
    {
      "cell_type": "code",
      "metadata": {
        "id": "Yqs9ywsZvkkH"
      },
      "source": [
        "# Use of validation set https://www.youtube.com/watch?v=Zi-0rlM4RDs&list=PLZbbT5o_s2xq7LwI2y8_QtvuXZedL6tQU&index=10\r\n",
        "# model.fit(scaled_train_samples, train_labels, validation_split = 0.2 ,batch_size=10, epochs=20, shuffle=True, verbose=2)\r\n",
        "# We can pass an entirely different set as validation set"
      ],
      "execution_count": 16,
      "outputs": []
    },
    {
      "cell_type": "code",
      "metadata": {
        "id": "2cbZMC1yxqH_"
      },
      "source": [
        "# Making predictions\r\n",
        "# predictions = model.predict(scaled_test_samples, batch_size=10, verbose=0)"
      ],
      "execution_count": 17,
      "outputs": []
    },
    {
      "cell_type": "code",
      "metadata": {
        "id": "cKxj76SKAY8B"
      },
      "source": [
        "# vgg16 is a convolutional neural network used for image processing"
      ],
      "execution_count": null,
      "outputs": []
    },
    {
      "cell_type": "markdown",
      "metadata": {
        "id": "C5dZVPsDINeC"
      },
      "source": [
        "Convolutional Neural Networks"
      ]
    },
    {
      "cell_type": "code",
      "metadata": {
        "id": "-DFA4YoJIQCn"
      },
      "source": [
        "import keras\r\n",
        "from keras.models import Sequential\r\n",
        "from keras.layers import Activation\r\n",
        "from keras.layers.core import Dense, Flatten\r\n",
        "from keras.layers.convolutional import *"
      ],
      "execution_count": 18,
      "outputs": []
    },
    {
      "cell_type": "code",
      "metadata": {
        "id": "eku6k3Y_IjrU"
      },
      "source": [
        "model_valid = Sequential([\r\n",
        " Dense(16, activation='relu', input_shape=(20,20,3)),\r\n",
        " Conv2D(32, kernel_size=(3,3), activation='relu',padding='valid'),\r\n",
        " Conv2D(64, kernel_size=(5,5), activation='relu',padding='valid'),\r\n",
        " Conv2D(128, kernel_size=(7,7), activation='relu',padding='valid'),\r\n",
        " Flatten(),\r\n",
        " Dense(2, activation='softmax'),\r\n",
        "])\r\n",
        "\r\n",
        "# Conv2D :- convolutional layer\r\n",
        "# kernel_size :- size of filter\r\n",
        "# valid padding :- no padding (default)\r\n",
        "\r\n",
        "# https://www.youtube.com/watch?v=qSTv_m-KFk0&list=PLZbbT5o_s2xq7LwI2y8_QtvuXZedL6tQU&index=21"
      ],
      "execution_count": 19,
      "outputs": []
    },
    {
      "cell_type": "code",
      "metadata": {
        "colab": {
          "base_uri": "https://localhost:8080/"
        },
        "id": "kynHGctqJHYm",
        "outputId": "60cca1bd-f1e0-40af-c86f-86cadb1e52eb"
      },
      "source": [
        "model_valid.summary()"
      ],
      "execution_count": 20,
      "outputs": [
        {
          "output_type": "stream",
          "text": [
            "Model: \"sequential_7\"\n",
            "_________________________________________________________________\n",
            "Layer (type)                 Output Shape              Param #   \n",
            "=================================================================\n",
            "dense_14 (Dense)             (None, 20, 20, 16)        64        \n",
            "_________________________________________________________________\n",
            "conv2d (Conv2D)              (None, 18, 18, 32)        4640      \n",
            "_________________________________________________________________\n",
            "conv2d_1 (Conv2D)            (None, 14, 14, 64)        51264     \n",
            "_________________________________________________________________\n",
            "conv2d_2 (Conv2D)            (None, 8, 8, 128)         401536    \n",
            "_________________________________________________________________\n",
            "flatten (Flatten)            (None, 8192)              0         \n",
            "_________________________________________________________________\n",
            "dense_15 (Dense)             (None, 2)                 16386     \n",
            "=================================================================\n",
            "Total params: 473,890\n",
            "Trainable params: 473,890\n",
            "Non-trainable params: 0\n",
            "_________________________________________________________________\n"
          ],
          "name": "stdout"
        }
      ]
    },
    {
      "cell_type": "code",
      "metadata": {
        "id": "drcpc2H8JLIb"
      },
      "source": [
        "model_same = Sequential([\r\n",
        " Dense(16, activation='relu', input_shape=(20,20,3)),\r\n",
        " Conv2D(32, kernel_size=(3,3), activation='relu',padding='same'),\r\n",
        " Conv2D(64, kernel_size=(5,5), activation='relu',padding='same'),\r\n",
        " Conv2D(128, kernel_size=(7,7), activation='relu',padding='same'),\r\n",
        " Flatten(),\r\n",
        " Dense(2, activation='softmax'),\r\n",
        "])\r\n",
        "\r\n",
        "# Conv2D :- convolutional layer\r\n",
        "# kernel_size :- size of filter\r\n",
        "# valid padding :- no padding (default)\r\n",
        "\r\n",
        "# https://www.youtube.com/watch?v=qSTv_m-KFk0&list=PLZbbT5o_s2xq7LwI2y8_QtvuXZedL6tQU&index=21"
      ],
      "execution_count": 22,
      "outputs": []
    },
    {
      "cell_type": "code",
      "metadata": {
        "colab": {
          "base_uri": "https://localhost:8080/"
        },
        "id": "DhyJ5ic5JtxB",
        "outputId": "fc49316b-f93d-48c8-f96c-7a17b0dabcda"
      },
      "source": [
        "model_same.summary()"
      ],
      "execution_count": 23,
      "outputs": [
        {
          "output_type": "stream",
          "text": [
            "Model: \"sequential_8\"\n",
            "_________________________________________________________________\n",
            "Layer (type)                 Output Shape              Param #   \n",
            "=================================================================\n",
            "dense_17 (Dense)             (None, 20, 20, 16)        64        \n",
            "_________________________________________________________________\n",
            "conv2d_6 (Conv2D)            (None, 20, 20, 32)        4640      \n",
            "_________________________________________________________________\n",
            "conv2d_7 (Conv2D)            (None, 20, 20, 64)        51264     \n",
            "_________________________________________________________________\n",
            "conv2d_8 (Conv2D)            (None, 20, 20, 128)       401536    \n",
            "_________________________________________________________________\n",
            "flatten_1 (Flatten)          (None, 51200)             0         \n",
            "_________________________________________________________________\n",
            "dense_18 (Dense)             (None, 2)                 102402    \n",
            "=================================================================\n",
            "Total params: 559,906\n",
            "Trainable params: 559,906\n",
            "Non-trainable params: 0\n",
            "_________________________________________________________________\n"
          ],
          "name": "stdout"
        }
      ]
    },
    {
      "cell_type": "code",
      "metadata": {
        "id": "gkzUt-nBJ0mC"
      },
      "source": [
        " # MAX pooling :- reducing dimensionality of images\r\n",
        " import keras\r\n",
        " from keras.layers import Activation\r\n",
        " from keras.layers.core import Dense, Flatten\r\n",
        " from keras.layers.convolutional import *\r\n",
        " from keras.layers.pooling import *\r\n",
        "\r\n",
        " model_pool = Sequential([\r\n",
        "   Dense(16, activation='relu',input_shape=(20,20,3)),\r\n",
        "   Conv2D(32, kernel_size=(3,3), activation='relu', padding='same'),\r\n",
        "   MaxPooling2D(pool_size=(2,2),strides=2,padding='valid'),\r\n",
        "   Conv2D(64, kernel_size=(5,5), activation='relu', padding='same'),\r\n",
        "   Flatten(), \r\n",
        "   Dense(2, activation='softmax')\r\n",
        " ])"
      ],
      "execution_count": 24,
      "outputs": []
    },
    {
      "cell_type": "code",
      "metadata": {
        "colab": {
          "base_uri": "https://localhost:8080/"
        },
        "id": "gCwv_GR8N3XE",
        "outputId": "408d5269-bfa8-42f5-a475-f1eff92fcb08"
      },
      "source": [
        "model_pool.summary()"
      ],
      "execution_count": 25,
      "outputs": [
        {
          "output_type": "stream",
          "text": [
            "Model: \"sequential_9\"\n",
            "_________________________________________________________________\n",
            "Layer (type)                 Output Shape              Param #   \n",
            "=================================================================\n",
            "dense_19 (Dense)             (None, 20, 20, 16)        64        \n",
            "_________________________________________________________________\n",
            "conv2d_9 (Conv2D)            (None, 20, 20, 32)        4640      \n",
            "_________________________________________________________________\n",
            "max_pooling2d (MaxPooling2D) (None, 10, 10, 32)        0         \n",
            "_________________________________________________________________\n",
            "conv2d_10 (Conv2D)           (None, 10, 10, 64)        51264     \n",
            "_________________________________________________________________\n",
            "flatten_2 (Flatten)          (None, 6400)              0         \n",
            "_________________________________________________________________\n",
            "dense_20 (Dense)             (None, 2)                 12802     \n",
            "=================================================================\n",
            "Total params: 68,770\n",
            "Trainable params: 68,770\n",
            "Non-trainable params: 0\n",
            "_________________________________________________________________\n"
          ],
          "name": "stdout"
        }
      ]
    },
    {
      "cell_type": "code",
      "metadata": {
        "id": "Ivr7Kb1TN5wV"
      },
      "source": [
        "# Weight initialization \r\n",
        "# To prevent problems of vanishing gradient or exploding gradient use Xavier initialization\r\n",
        "from keras.models import Sequential\r\n",
        "from keras.layers import Dense, Activation\r\n",
        "model = Sequential([\r\n",
        " Dense(16, input_shape=(1,5), activation='relu'),\r\n",
        " Dense(32, activation='relu', kernel_initializer='glorot_uniform'),\r\n",
        " Dense(2, activation='softmax')\r\n",
        "])"
      ],
      "execution_count": 30,
      "outputs": []
    },
    {
      "cell_type": "code",
      "metadata": {
        "id": "d_u3PJouaNNb"
      },
      "source": [
        "# performing regularization, l2 regularization\r\n",
        "import keras\r\n",
        "from keras.layers import Activation\r\n",
        "from keras.layers.core import Dense, Flatten\r\n",
        "from keras.layers.convolutional import *\r\n",
        "from keras import regularizers"
      ],
      "execution_count": 32,
      "outputs": []
    },
    {
      "cell_type": "code",
      "metadata": {
        "id": "jsSpBzwEgJT5"
      },
      "source": [
        "model = Sequential([\r\n",
        " Dense(16, input_shape=(1,), activation='relu'),\r\n",
        " Dense(32, activation='relu', kernel_regularizer=regularizers.l2(0.01)),\r\n",
        " Dense(2, activation='softmax')\r\n",
        "])"
      ],
      "execution_count": 33,
      "outputs": []
    },
    {
      "cell_type": "code",
      "metadata": {
        "id": "Hf4Uq6OigXpW"
      },
      "source": [
        "# Batch normalization\r\n",
        "from keras.models import Sequential\r\n",
        "from keras.layers import Dense, Activation, BatchNormalization\r\n",
        "model = Sequential([\r\n",
        " Dense(16, input_shape=(1,5), activation='relu'),\r\n",
        " Dense(32, activation='relu'),\r\n",
        " # define batch normalization for this layer\r\n",
        " BatchNormalization(axis=1),\r\n",
        " Dense(2, activation='softmax')\r\n",
        "])\r\n",
        "\r\n",
        "# beta initializer : default 0\r\n",
        "# gamma initializer : default 1"
      ],
      "execution_count": 36,
      "outputs": []
    },
    {
      "cell_type": "code",
      "metadata": {
        "id": "-r7VIVIsjfqr"
      },
      "source": [
        ""
      ],
      "execution_count": null,
      "outputs": []
    }
  ]
}